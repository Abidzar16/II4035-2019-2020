{
 "cells": [
  {
   "cell_type": "code",
   "execution_count": 1,
   "metadata": {},
   "outputs": [],
   "source": [
    "import numpy as np\n",
    "import random"
   ]
  },
  {
   "cell_type": "code",
   "execution_count": 31,
   "metadata": {},
   "outputs": [],
   "source": [
    "test_filename=\"II4035-regresi-test.csv\"\n",
    "train_filename=\"II4035-regresi-train.csv\"\n",
    "\n",
    "training=np.genfromtxt(train_filename,delimiter=',',skip_header=1)\n",
    "test    =np.genfromtxt(test_filename,delimiter=',',skip_header=1)"
   ]
  },
  {
   "cell_type": "code",
   "execution_count": 32,
   "metadata": {},
   "outputs": [
    {
     "data": {
      "text/plain": [
       "array([[ 0.00000000e+00,  8.71989804e-01,  2.21021171e-01],\n",
       "       [ 1.00000000e+00,  5.18524637e-02,  6.68667436e-01],\n",
       "       [ 2.00000000e+00,  1.09932496e+00, -2.01164016e-01],\n",
       "       [ 3.00000000e+00,  8.70644785e-01,  8.23040344e-03],\n",
       "       [ 4.00000000e+00,  8.40735604e-01, -2.31591565e-01],\n",
       "       [ 5.00000000e+00,  6.60669642e-01, -8.27731447e-01],\n",
       "       [ 6.00000000e+00,  4.09297268e-01,  2.40325769e-01],\n",
       "       [ 7.00000000e+00,  1.23854193e+00,  6.39573652e-01],\n",
       "       [ 8.00000000e+00,  5.99309347e-01, -2.66779036e-01],\n",
       "       [ 9.00000000e+00,  5.33654550e-01,  3.40140526e-01],\n",
       "       [ 1.00000000e+01,  1.24226767e+00,  8.62168761e-01],\n",
       "       [ 1.10000000e+01,  1.05828419e+00, -3.08798847e-01],\n",
       "       [ 1.20000000e+01,  2.69159891e-01,  5.44127193e-02],\n",
       "       [ 1.30000000e+01,  1.02715624e+00, -1.28448656e-01],\n",
       "       [ 1.40000000e+01,  3.68879731e-01, -1.84977051e-02],\n",
       "       [ 1.50000000e+01,  1.57067030e+00, -3.83285475e-01],\n",
       "       [ 1.60000000e+01,  1.70795059e+00,  4.55266506e-02],\n",
       "       [ 1.70000000e+01,  9.88473675e-01,  2.92765592e-01],\n",
       "       [ 1.80000000e+01,  1.69312297e+00,  4.89722273e-02],\n",
       "       [ 1.90000000e+01,  1.59290954e-01,  7.04875560e-01],\n",
       "       [ 2.00000000e+01,  1.01049218e+00,  7.41811635e-02],\n",
       "       [ 2.10000000e+01,  1.30573009e-01,  8.29035473e-01],\n",
       "       [ 2.20000000e+01,  8.56244655e-01,  8.47128368e-02],\n",
       "       [ 2.30000000e+01,  1.93061831e-01,  4.86173013e-01],\n",
       "       [ 2.40000000e+01,  2.54319943e-01,  1.44920452e-01],\n",
       "       [ 2.50000000e+01,  1.19349062e+00,  5.20206342e-01],\n",
       "       [ 2.60000000e+01,  4.52024001e-01,  5.82686821e-01],\n",
       "       [ 2.70000000e+01,  2.13891369e-01,  3.91795189e-01],\n",
       "       [ 2.80000000e+01,  4.40612414e-01,  3.71811517e-01],\n",
       "       [ 2.90000000e+01,  6.99652570e-01, -9.30660215e-01],\n",
       "       [ 3.00000000e+01,  9.35574969e-01,  2.34714682e-01],\n",
       "       [ 3.10000000e+01,  4.03486453e-01,  3.84377256e-01],\n",
       "       [ 3.20000000e+01,  1.28081345e+00,  9.89745289e-01],\n",
       "       [ 3.30000000e+01,  9.66139671e-01,  2.56819726e-01],\n",
       "       [ 3.40000000e+01,  1.01047344e+00, -5.41641326e-02],\n",
       "       [ 3.50000000e+01,  7.73785302e-01, -6.74350703e-01],\n",
       "       [ 3.60000000e+01,  1.58727491e+00, -2.93246878e-01],\n",
       "       [ 3.70000000e+01,  1.16000836e+00,  1.96500516e-02],\n",
       "       [ 3.80000000e+01,  3.24597197e-01, -5.72308640e-02],\n",
       "       [ 3.90000000e+01,  1.40150469e+00,  2.28235628e-01],\n",
       "       [ 4.00000000e+01,  1.92910216e+00, -4.66037089e-01],\n",
       "       [ 4.10000000e+01,  1.00001672e+00, -9.36500474e-03],\n",
       "       [ 4.20000000e+01,  1.77904013e+00, -2.64817216e-01],\n",
       "       [ 4.30000000e+01,  6.83227305e-01, -8.77446353e-01],\n",
       "       [ 4.40000000e+01,  1.13428826e+00, -8.37284156e-02],\n",
       "       [ 4.50000000e+01,  8.55091927e-01, -1.69312637e-01],\n",
       "       [ 4.60000000e+01,  8.73494526e-01,  1.96888746e-01],\n",
       "       [ 4.70000000e+01,  1.55311837e+00, -5.40333146e-01],\n",
       "       [ 4.80000000e+01,  1.07120835e+00, -1.61617290e-01],\n",
       "       [ 4.90000000e+01,  1.90748445e+00, -9.01627276e-01]])"
      ]
     },
     "execution_count": 32,
     "metadata": {},
     "output_type": "execute_result"
    }
   ],
   "source": [
    "training"
   ]
  },
  {
   "cell_type": "code",
   "execution_count": 33,
   "metadata": {},
   "outputs": [
    {
     "data": {
      "text/plain": [
       "array([[ 0.        ,  1.84065371],\n",
       "       [ 1.        ,  1.08501805],\n",
       "       [ 2.        ,  1.85083185],\n",
       "       [ 3.        ,  1.38666879],\n",
       "       [ 4.        ,  1.35591188],\n",
       "       [ 5.        ,  0.48896109],\n",
       "       [ 6.        ,  1.85729402],\n",
       "       [ 7.        ,  0.11121446],\n",
       "       [ 8.        ,  0.55536825],\n",
       "       [ 9.        ,  0.88262476],\n",
       "       [10.        ,  1.50288926],\n",
       "       [11.        ,  0.45583313],\n",
       "       [12.        ,  1.65338782],\n",
       "       [13.        ,  1.87012122],\n",
       "       [14.        ,  0.39491603],\n",
       "       [15.        ,  1.1752011 ],\n",
       "       [16.        ,  0.11617498],\n",
       "       [17.        ,  0.79582831],\n",
       "       [18.        ,  0.1794881 ],\n",
       "       [19.        ,  1.82197534],\n",
       "       [20.        ,  0.88506396],\n",
       "       [21.        ,  1.80815915],\n",
       "       [22.        ,  1.51535077],\n",
       "       [23.        ,  1.65932074],\n",
       "       [24.        ,  0.41169776],\n",
       "       [25.        ,  0.23490746],\n",
       "       [26.        ,  1.1813369 ],\n",
       "       [27.        ,  0.40234993],\n",
       "       [28.        ,  1.4200843 ],\n",
       "       [29.        ,  0.83519895],\n",
       "       [30.        ,  1.05023588],\n",
       "       [31.        ,  1.78762885],\n",
       "       [32.        ,  1.03905302],\n",
       "       [33.        ,  0.29474809],\n",
       "       [34.        ,  0.38480213],\n",
       "       [35.        ,  1.08136477],\n",
       "       [36.        ,  1.04392734],\n",
       "       [37.        ,  1.24769844],\n",
       "       [38.        ,  0.8226918 ],\n",
       "       [39.        ,  1.2696492 ],\n",
       "       [40.        ,  0.81442001],\n",
       "       [41.        ,  1.223049  ],\n",
       "       [42.        ,  1.48132894],\n",
       "       [43.        ,  0.42215304],\n",
       "       [44.        ,  0.77603638],\n",
       "       [45.        ,  1.00455951],\n",
       "       [46.        ,  1.33600074],\n",
       "       [47.        ,  0.55662337],\n",
       "       [48.        ,  1.09853355],\n",
       "       [49.        ,  1.22487552]])"
      ]
     },
     "execution_count": 33,
     "metadata": {},
     "output_type": "execute_result"
    }
   ],
   "source": [
    "test"
   ]
  },
  {
   "cell_type": "code",
   "execution_count": 8,
   "metadata": {},
   "outputs": [
    {
     "data": {
      "text/plain": [
       "(50, 3)"
      ]
     },
     "execution_count": 8,
     "metadata": {},
     "output_type": "execute_result"
    }
   ],
   "source": [
    "training.shape"
   ]
  },
  {
   "cell_type": "code",
   "execution_count": 25,
   "metadata": {},
   "outputs": [],
   "source": [
    "train_x=training[:,1]"
   ]
  },
  {
   "cell_type": "code",
   "execution_count": 26,
   "metadata": {},
   "outputs": [],
   "source": [
    "train_y=training[:,2]"
   ]
  },
  {
   "cell_type": "code",
   "execution_count": 27,
   "metadata": {},
   "outputs": [
    {
     "data": {
      "text/plain": [
       "(50,)"
      ]
     },
     "execution_count": 27,
     "metadata": {},
     "output_type": "execute_result"
    }
   ],
   "source": [
    "train_x.shape"
   ]
  },
  {
   "cell_type": "code",
   "execution_count": 28,
   "metadata": {},
   "outputs": [
    {
     "data": {
      "text/plain": [
       "(50,)"
      ]
     },
     "execution_count": 28,
     "metadata": {},
     "output_type": "execute_result"
    }
   ],
   "source": [
    "train_y.shape"
   ]
  },
  {
   "cell_type": "code",
   "execution_count": 30,
   "metadata": {},
   "outputs": [
    {
     "data": {
      "image/png": "[encoded data removed]",
      "text/plain": [
       "<Figure size 432x288 with 1 Axes>"
      ]
     },
     "metadata": {},
     "output_type": "display_data"
    }
   ],
   "source": [
    "import matplotlib.pyplot as plt\n",
    "\n",
    "# plot dengan matplotlib. manual: https://matplotlib.org/api/_as_gen/matplotlib.pyplot.plot.html\n",
    "plt.plot(train_x, train_y, \"bx\") # blue line\n",
    "plt.xlabel(\"$x_1$\", fontsize=18)\n",
    "plt.ylabel(\"$y$\", rotation=0, fontsize=18)\n",
    "plt.axis([0, 2, -1, 1])\n",
    "plt.show()"
   ]
  },
  {
   "cell_type": "code",
   "execution_count": null,
   "metadata": {},
   "outputs": [],
   "source": []
  }
 ],
 "metadata": {
  "kernelspec": {
   "display_name": "Python [default]",
   "language": "python",
   "name": "python3"
  },
  "language_info": {
   "codemirror_mode": {
    "name": "ipython",
    "version": 3
   },
   "file_extension": ".py",
   "mimetype": "text/x-python",
   "name": "python",
   "nbconvert_exporter": "python",
   "pygments_lexer": "ipython3",
   "version": "3.6.5"
  }
 },
 "nbformat": 4,
 "nbformat_minor": 2
}
